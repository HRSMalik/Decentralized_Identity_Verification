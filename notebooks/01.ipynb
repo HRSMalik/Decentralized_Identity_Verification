{
 "cells": [
  {
   "cell_type": "code",
   "execution_count": 1,
   "id": "8a6056a0",
   "metadata": {},
   "outputs": [
    {
     "data": {
      "text/plain": [
       "'/home/malik-harris/tekhqs/didenv/Decentralized_Identity_Verification'"
      ]
     },
     "execution_count": 1,
     "metadata": {},
     "output_type": "execute_result"
    }
   ],
   "source": [
    "# %pwd\n",
    "import os\n",
    "os.chdir(\"../\")\n",
    "%pwd"
   ]
  },
  {
   "cell_type": "code",
   "execution_count": 2,
   "id": "bdeca647",
   "metadata": {},
   "outputs": [],
   "source": [
    "from torchmetrics.classification import BinaryAccuracy, BinaryPrecision, BinaryRecall, BinaryF1Score, BinaryAUROC\n",
    "from tqdm import tqdm\n",
    "import matplotlib.pyplot as plt\n",
    "import zipfile\n",
    "import os\n",
    "from PIL import Image\n",
    "from torchvision import transforms\n",
    "import random\n",
    "import torch\n",
    "from torch.utils.data import Dataset\n",
    "from torchvision import transforms\n",
    "import torch.nn as nn\n",
    "import torch.optim as optim\n",
    "import random\n",
    "from PIL import Image\n",
    "from sklearn.model_selection import train_test_split\n",
    "from sklearn.metrics import confusion_matrix, ConfusionMatrixDisplay, classification_report\n"
   ]
  },
  {
   "cell_type": "code",
   "execution_count": 3,
   "id": "fed1198b",
   "metadata": {},
   "outputs": [
    {
     "data": {
      "text/plain": [
       "<torch._C.Generator at 0x712f96b18bb0>"
      ]
     },
     "execution_count": 3,
     "metadata": {},
     "output_type": "execute_result"
    }
   ],
   "source": [
    "torch.manual_seed(42)"
   ]
  },
  {
   "cell_type": "code",
   "execution_count": 4,
   "id": "830f65c5",
   "metadata": {},
   "outputs": [
    {
     "name": "stderr",
     "output_type": "stream",
     "text": [
      "Extracting: 100%|██████████| 725/725 [00:07<00:00, 94.95it/s] "
     ]
    },
    {
     "name": "stdout",
     "output_type": "stream",
     "text": [
      "Extracted to data\n"
     ]
    },
    {
     "name": "stderr",
     "output_type": "stream",
     "text": [
      "\n"
     ]
    }
   ],
   "source": [
    "zip_path = \"data/Diddata.zip\"\n",
    "extract_to = \"data\"\n",
    "\n",
    "os.makedirs(extract_to, exist_ok=True)\n",
    "\n",
    "with zipfile.ZipFile(zip_path, 'r') as zip_ref:\n",
    "    members = zip_ref.namelist()\n",
    "    for member in tqdm(members, desc=\"Extracting\"):\n",
    "        zip_ref.extract(member, extract_to)\n",
    "\n",
    "print(f\"Extracted to {extract_to}\")"
   ]
  },
  {
   "cell_type": "code",
   "execution_count": 5,
   "id": "0b6e8849",
   "metadata": {},
   "outputs": [
    {
     "name": "stdout",
     "output_type": "stream",
     "text": [
      "Renamed 55 directories to 1-55\n"
     ]
    }
   ],
   "source": [
    "base_dir = \"data/Diddata\"\n",
    "dirs = [d for d in os.listdir(base_dir) if os.path.isdir(os.path.join(base_dir, d))]\n",
    "dirs.sort()  # Sort for consistent numbering\n",
    "\n",
    "for idx, dirname in enumerate(dirs, start=1):\n",
    "    src = os.path.join(base_dir, dirname)\n",
    "    dst = os.path.join(base_dir, str(idx))\n",
    "    os.rename(src, dst)\n",
    "\n",
    "print(f\"Renamed {len(dirs)} directories to 1-{len(dirs)}\")"
   ]
  },
  {
   "cell_type": "code",
   "execution_count": 6,
   "id": "4edcf80d",
   "metadata": {},
   "outputs": [],
   "source": [
    "# Cell 2: Custom Dataset for KYC Verification (with positive and negative pairs)\n",
    "class KYCVerificationDataset(Dataset):\n",
    "    def __init__(self, root, transform=None, neg_ratio=1.0):\n",
    "        self.transform = transform\n",
    "        self.pairs = []\n",
    "        self.labels = []\n",
    "        self.person_dirs = [os.path.join(root, d) for d in os.listdir(root) if os.path.isdir(os.path.join(root, d))]\n",
    "        self.person_dirs.sort()\n",
    "        # Collect all doc and selfie images for each person\n",
    "        self.docs = []\n",
    "        self.selfies = []\n",
    "        for person_dir in self.person_dirs:\n",
    "            doc_imgs = [os.path.join(person_dir, f) for f in os.listdir(person_dir) if 'id' in f.lower() or 'passport' in f.lower() or 'national' in f.lower()]\n",
    "            selfie_imgs = [os.path.join(person_dir, f) for f in os.listdir(person_dir) if 'selfie' in f.lower()]\n",
    "            self.docs.append(doc_imgs)\n",
    "            self.selfies.append(selfie_imgs)\n",
    "        # Positive pairs (same person)\n",
    "        for i, (doc_list, selfie_list) in enumerate(zip(self.docs, self.selfies)):\n",
    "            for doc in doc_list:\n",
    "                for selfie in selfie_list:\n",
    "                    self.pairs.append((doc, selfie))\n",
    "                    self.labels.append(1)\n",
    "        # Negative pairs (different people)\n",
    "        num_neg = int(len(self.pairs) * neg_ratio)\n",
    "        for _ in range(num_neg):\n",
    "            i, j = random.sample(range(len(self.person_dirs)), 2)\n",
    "            if self.docs[i] and self.selfies[j]:\n",
    "                doc = random.choice(self.docs[i])\n",
    "                selfie = random.choice(self.selfies[j])\n",
    "                self.pairs.append((doc, selfie))\n",
    "                self.labels.append(0)\n",
    "\n",
    "    def __len__(self):\n",
    "        return len(self.pairs)\n",
    "\n",
    "    def __getitem__(self, idx):\n",
    "        doc_path, selfie_path = self.pairs[idx]\n",
    "        doc_img = Image.open(doc_path).convert(\"RGB\")\n",
    "        selfie_img = Image.open(selfie_path).convert(\"RGB\")\n",
    "        if self.transform:\n",
    "            doc_img = self.transform(doc_img)\n",
    "            selfie_img = self.transform(selfie_img)\n",
    "        label = torch.tensor(self.labels[idx], dtype=torch.float32)\n",
    "        return doc_img, selfie_img, label"
   ]
  },
  {
   "cell_type": "code",
   "execution_count": 7,
   "id": "de9153f1",
   "metadata": {},
   "outputs": [],
   "source": [
    "# Cell 3: Siamese Network Definition\n",
    "class LightweightCNN(nn.Module):\n",
    "    def __init__(self):\n",
    "        super().__init__()\n",
    "        self.features = nn.Sequential(\n",
    "            nn.Conv2d(3, 16, kernel_size=3, stride=2, padding=1),\n",
    "            nn.ReLU(),\n",
    "            nn.MaxPool2d(2), \n",
    "\n",
    "            nn.Conv2d(16, 32, kernel_size=3, padding=1),\n",
    "            nn.ReLU(),\n",
    "            nn.MaxPool2d(2), \n",
    "\n",
    "            nn.Conv2d(32, 64, kernel_size=3, padding=1), \n",
    "            nn.ReLU(),\n",
    "            nn.MaxPool2d(2), \n",
    "\n",
    "            nn.Conv2d(64, 128, kernel_size=3, padding=1),\n",
    "            nn.ReLU(),\n",
    "            nn.MaxPool2d(2),  \n",
    "        )\n",
    "        self.avgpool = nn.AdaptiveAvgPool2d((1, 1))  \n",
    "        self.out_dim = 128  \n",
    "\n",
    "    def forward(self, x):\n",
    "        x = self.features(x)  \n",
    "        x = self.avgpool(x) \n",
    "        x = torch.flatten(x, start_dim=1)\n",
    "        return x \n",
    "class SiameseNetwork(nn.Module):\n",
    "    def __init__(self):\n",
    "        super().__init__()\n",
    "        self.cnn = LightweightCNN()\n",
    "        self.project = nn.Linear(128, 512)\n",
    "        self.fc = nn.Sequential(\n",
    "            nn.Linear(512 * 2, 256),\n",
    "            nn.ReLU(),\n",
    "            nn.Dropout(p=0.3),\n",
    "            nn.Linear(256, 1)\n",
    "        )\n",
    "\n",
    "    def forward(self, x1, x2):\n",
    "        f1 = self.cnn(x1) \n",
    "        f1 = self.project(f1)  \n",
    "        f2 = self.cnn(x2) \n",
    "        f2 = self.project(f2) \n",
    "        out = torch.cat([f1, f2], dim=1) \n",
    "        out = self.fc(out)\n",
    "        return out.squeeze(1)\n"
   ]
  },
  {
   "cell_type": "code",
   "execution_count": 8,
   "id": "34f0d228",
   "metadata": {},
   "outputs": [],
   "source": [
    "from sklearn.model_selection import train_test_split\n",
    "# Cell 4: DataLoader and Training Setup\n",
    "transform = transforms.Compose([\n",
    "    transforms.Resize((112,112)),\n",
    "    transforms.ToTensor(),\n",
    "    transforms.Normalize([0.485,0.456,0.406],[0.229,0.224,0.225])\n",
    "])\n",
    "dataset = KYCVerificationDataset(root=\"data/Diddata\", transform=transform, neg_ratio=1.0)\n",
    "\n",
    "all_indices = list(range(len(dataset)))\n",
    "# First split: train+val vs test\n",
    "trainval_indices, test_indices = train_test_split(all_indices, test_size=0.1, random_state=42, shuffle=True)\n",
    "# Second split: train vs val\n",
    "train_indices, val_indices = train_test_split(trainval_indices, test_size=0.1, random_state=42, shuffle=True)\n",
    "\n",
    "from torch.utils.data import Subset, DataLoader\n",
    "\n",
    "train_dataset = Subset(dataset, train_indices)\n",
    "val_dataset = Subset(dataset, val_indices)\n",
    "test_dataset = Subset(dataset, test_indices)\n",
    "\n",
    "train_loader = DataLoader(train_dataset, batch_size=16, shuffle=True, num_workers=4)\n",
    "val_loader = DataLoader(val_dataset, batch_size=16, shuffle=False, num_workers=4)\n",
    "test_loader = DataLoader(test_dataset, batch_size=16, shuffle=False, num_workers=4)"
   ]
  },
  {
   "cell_type": "code",
   "execution_count": 9,
   "id": "cd6e7a53",
   "metadata": {},
   "outputs": [
    {
     "name": "stdout",
     "output_type": "stream",
     "text": [
      "Using device: cuda\n"
     ]
    }
   ],
   "source": [
    "device = torch.device(\"cuda\" if torch.cuda.is_available() else \"cpu\")\n",
    "print(\"Using device:\", device)\n",
    "model = SiameseNetwork().to(device)\n",
    "# model.load_state_dict(torch.load(\"/kaggle/input/best_syamese_model.pt/pytorch/default/2/best_kyc_siamese.pt\", map_location=device))\n",
    "# print(\"✅ Loaded model weights from best_kyc_siamese.pt\")\n",
    "criterion = nn.BCEWithLogitsLoss()\n",
    "# criterion = ContrastiveLoss()  # costom loss\n",
    "optimizer = optim.Adam(model.parameters(), lr=1e-4, weight_decay=1e-5)"
   ]
  },
  {
   "cell_type": "code",
   "execution_count": 10,
   "id": "36f4746d",
   "metadata": {},
   "outputs": [],
   "source": [
    "# Initialize lists before the training loop\n",
    "# train_losses, val_losses = [], []\n",
    "# train_accs, val_accs = [], []\n",
    "# train_f1s, val_f1s = [], []\n",
    "# train_aucs, val_aucs = [], []\n",
    "# epochs = 50\n",
    "# best_val_auc = 0.0\n",
    "\n",
    "# for epoch in range(epochs):  \n",
    "#     # --- Training ---\n",
    "#     model.train()\n",
    "#     running_loss = 0.0\n",
    "#     acc_metric = BinaryAccuracy().to(device)\n",
    "#     prec_metric = BinaryPrecision().to(device)\n",
    "#     rec_metric = BinaryRecall().to(device)\n",
    "#     f1_metric = BinaryF1Score().to(device)\n",
    "#     auc_metric = BinaryAUROC().to(device)\n",
    "\n",
    "#     for doc_img, selfie_img, label in tqdm(train_loader, desc=f\"Train Epoch {epoch+1}\"):\n",
    "#         doc_img, selfie_img, label = doc_img.to(device), selfie_img.to(device), label.to(device)\n",
    "#         optimizer.zero_grad()\n",
    "#         output = model(doc_img, selfie_img)\n",
    "#         loss = criterion(output, label)\n",
    "#         loss.backward()\n",
    "#         optimizer.step()\n",
    "#         running_loss += loss.item()\n",
    "\n",
    "#         probs = torch.sigmoid(output)\n",
    "#         preds = (probs > 0.5).float()\n",
    "#         acc_metric.update(preds, label)\n",
    "#         prec_metric.update(preds, label)\n",
    "#         rec_metric.update(preds, label)\n",
    "#         f1_metric.update(preds, label)\n",
    "#         auc_metric.update(probs, label)\n",
    "\n",
    "#     train_acc = acc_metric.compute().item()\n",
    "#     train_prec = prec_metric.compute().item()\n",
    "#     train_rec = rec_metric.compute().item()\n",
    "#     train_f1 = f1_metric.compute().item()\n",
    "#     train_auc = auc_metric.compute().item()\n",
    "#     avg_train_loss = running_loss / len(train_loader)\n",
    "#     print(f\"Train Epoch {epoch+1}: Loss={avg_train_loss:.4f}, Acc={train_acc:.4f}, Prec={train_prec:.4f}, Rec={train_rec:.4f}, F1={train_f1:.4f}, AUC={train_auc:.4f}\")\n",
    "\n",
    "#     # --- Validation ---\n",
    "#     model.eval()\n",
    "#     val_loss = 0.0\n",
    "#     val_acc_metric = BinaryAccuracy().to(device)\n",
    "#     val_prec_metric = BinaryPrecision().to(device)\n",
    "#     val_rec_metric = BinaryRecall().to(device)\n",
    "#     val_f1_metric = BinaryF1Score().to(device)\n",
    "#     val_auc_metric = BinaryAUROC().to(device)\n",
    "#     with torch.no_grad():\n",
    "#         for doc_img, selfie_img, label in val_loader:\n",
    "#             doc_img, selfie_img, label = doc_img.to(device), selfie_img.to(device), label.to(device)\n",
    "#             output = model(doc_img, selfie_img)\n",
    "#             loss = criterion(output, label)\n",
    "#             val_loss += loss.item()\n",
    "\n",
    "#             probs = torch.sigmoid(output)\n",
    "#             preds = (probs > 0.5).float()\n",
    "#             val_acc_metric.update(preds, label)\n",
    "#             val_prec_metric.update(preds, label)\n",
    "#             val_rec_metric.update(preds, label)\n",
    "#             val_f1_metric.update(preds, label)\n",
    "#             val_auc_metric.update(probs, label)\n",
    "\n",
    "#     val_acc = val_acc_metric.compute().item()\n",
    "#     val_prec = val_prec_metric.compute().item()\n",
    "#     val_rec = val_rec_metric.compute().item()\n",
    "#     val_f1 = val_f1_metric.compute().item()\n",
    "#     val_auc = val_auc_metric.compute().item()\n",
    "#     avg_val_loss = val_loss / len(val_loader)\n",
    "#     print(f\"Val Epoch {epoch+1}: Loss={avg_val_loss:.4f}, Acc={val_acc:.4f}, Prec={val_prec:.4f}, Rec={val_rec:.4f}, F1={val_f1:.4f}, AUC={val_auc:.4f}\")\n",
    "\n",
    "#     # Save best model by validation AUC\n",
    "#     if val_auc > best_val_auc:\n",
    "#         best_val_auc = val_auc\n",
    "#         torch.save(model.state_dict(), \"best_kyc_siamese.pt\")\n",
    "#         print(f\"✅ Best model saved at epoch {epoch+1} with Val AUC={val_auc:.4f}\")\n",
    "\n",
    "#     # ---- APPEND METRICS HERE ----\n",
    "#     train_losses.append(avg_train_loss)\n",
    "#     val_losses.append(avg_val_loss)\n",
    "#     train_accs.append(train_acc)\n",
    "#     val_accs.append(val_acc)\n",
    "#     train_f1s.append(train_f1)\n",
    "#     val_f1s.append(val_f1)\n",
    "#     train_aucs.append(train_auc)\n",
    "#     val_aucs.append(val_auc)\n",
    "\n",
    "# # Plotting\n",
    "# epochs_range = range(1, epochs+1)\n",
    "# plt.figure(figsize=(20,5))\n",
    "\n",
    "# plt.subplot(1,4,1)\n",
    "# plt.plot(epochs_range, train_losses, label='Train Loss')\n",
    "# plt.plot(epochs_range, val_losses, label='Val Loss')\n",
    "# plt.xlabel('Epoch')\n",
    "# plt.ylabel('Loss')\n",
    "# plt.legend()\n",
    "# plt.title('Loss')\n",
    "\n",
    "# plt.subplot(1,4,2)\n",
    "# plt.plot(epochs_range, train_accs, label='Train Acc')\n",
    "# plt.plot(epochs_range, val_accs, label='Val Acc')\n",
    "# plt.xlabel('Epoch')\n",
    "# plt.ylabel('Accuracy')\n",
    "# plt.legend()\n",
    "# plt.title('Accuracy')\n",
    "\n",
    "# plt.subplot(1,4,3)\n",
    "# plt.plot(epochs_range, train_f1s, label='Train F1')\n",
    "# plt.plot(epochs_range, val_f1s, label='Val F1')\n",
    "# plt.xlabel('Epoch')\n",
    "# plt.ylabel('F1 Score')\n",
    "# plt.legend()\n",
    "# plt.title('F1 Score')\n",
    "\n",
    "# plt.subplot(1,4,4)\n",
    "# plt.plot(epochs_range, train_aucs, label='Train AUC')\n",
    "# plt.plot(epochs_range, val_aucs, label='Val AUC')\n",
    "# plt.xlabel('Epoch')\n",
    "# plt.ylabel('ROC AUC')\n",
    "# plt.legend()\n",
    "# plt.title('ROC AUC')\n",
    "\n",
    "# plt.tight_layout()\n",
    "# os.makedirs(\"plot\", exist_ok=True)\n",
    "# plt.savefig(\"plot/training_validation_metrics.png\", dpi=300)\n",
    "\n",
    "# # Now show it\n",
    "# plt.show()"
   ]
  },
  {
   "cell_type": "code",
   "execution_count": 11,
   "id": "254809f6",
   "metadata": {},
   "outputs": [
    {
     "name": "stderr",
     "output_type": "stream",
     "text": [
      "Testing: 100%|██████████| 9/9 [00:21<00:00,  2.36s/it]\n"
     ]
    },
    {
     "name": "stdout",
     "output_type": "stream",
     "text": [
      "Best Model Test Results: Loss=0.4773, Acc=0.8310, Prec=0.8365, Rec=0.9255, F1=0.8788, AUC=0.8223\n"
     ]
    },
    {
     "data": {
      "text/plain": [
       "<Figure size 500x500 with 0 Axes>"
      ]
     },
     "metadata": {},
     "output_type": "display_data"
    },
    {
     "data": {
      "image/png": "[encoded data removed]",
      "text/plain": [
       "<Figure size 640x480 with 2 Axes>"
      ]
     },
     "metadata": {},
     "output_type": "display_data"
    },
    {
     "name": "stdout",
     "output_type": "stream",
     "text": [
      "              precision    recall  f1-score   support\n",
      "\n",
      "    Negative       0.82      0.65      0.72        48\n",
      "    Positive       0.84      0.93      0.88        94\n",
      "\n",
      "    accuracy                           0.83       142\n",
      "   macro avg       0.83      0.79      0.80       142\n",
      "weighted avg       0.83      0.83      0.83       142\n",
      "\n"
     ]
    }
   ],
   "source": [
    "\n",
    "# --- Test Set Evaluation with Confusion Matrix and Classification Report ---\n",
    "\n",
    "# Load the best model\n",
    "model.load_state_dict(torch.load(\"Model/best_kyc_siamese.pt\"))\n",
    "model.eval()\n",
    "\n",
    "all_labels = []\n",
    "all_preds = []\n",
    "test_loss = 0.0\n",
    "\n",
    "test_acc_metric = BinaryAccuracy().to(device)\n",
    "test_prec_metric = BinaryPrecision().to(device)\n",
    "test_rec_metric = BinaryRecall().to(device)\n",
    "test_f1_metric = BinaryF1Score().to(device)\n",
    "test_auc_metric = BinaryAUROC().to(device)\n",
    "\n",
    "with torch.no_grad():\n",
    "    for doc_img, selfie_img, label in tqdm(test_loader, desc=\"Testing\"):\n",
    "        doc_img, selfie_img, label = doc_img.to(device), selfie_img.to(device), label.to(device)\n",
    "        output = model(doc_img, selfie_img)\n",
    "        loss = criterion(output, label)\n",
    "        test_loss += loss.item()\n",
    "        probs = torch.sigmoid(output)\n",
    "        preds = (probs > 0.5).float()\n",
    "        all_labels.extend(label.cpu().numpy())\n",
    "        all_preds.extend(preds.cpu().numpy())\n",
    "        test_acc_metric.update(preds, label)\n",
    "        test_prec_metric.update(preds, label)\n",
    "        test_rec_metric.update(preds, label)\n",
    "        test_f1_metric.update(preds, label)\n",
    "        test_auc_metric.update(probs, label)\n",
    "\n",
    "\n",
    "avg_test_loss = test_loss / len(test_loader)\n",
    "test_acc = test_acc_metric.compute().item()\n",
    "test_prec = test_prec_metric.compute().item()\n",
    "test_rec = test_rec_metric.compute().item()\n",
    "test_f1 = test_f1_metric.compute().item()\n",
    "test_auc = test_auc_metric.compute().item()\n",
    "\n",
    "\n",
    "print(f\"Best Model Test Results: Loss={avg_test_loss:.4f}, Acc={test_acc:.4f}, Prec={test_prec:.4f}, Rec={test_rec:.4f}, F1={test_f1:.4f}, AUC={test_auc:.4f}\")\n",
    "# --- Confusion Matrix ---\n",
    "cm = confusion_matrix(all_labels, all_preds)\n",
    "disp = ConfusionMatrixDisplay(confusion_matrix=cm, display_labels=[\"Negative\", \"Positive\"])\n",
    "os.makedirs(\"plot\", exist_ok=True)\n",
    "plt.figure(figsize=(5,5))\n",
    "disp.plot(cmap=plt.cm.Blues, values_format='d')\n",
    "plt.title(\"Confusion Matrix\")\n",
    "plt.savefig(\"plot/confusion_matrix.png\")\n",
    "plt.show()\n",
    "\n",
    "# --- Classification Report ---\n",
    "report = classification_report(all_labels, all_preds, target_names=[\"Negative\", \"Positive\"])\n",
    "print(report)\n",
    "with open(\"plot/classification_report.txt\", \"w\") as f:\n",
    "    f.write(report)\n",
    "\n",
    "# --- Save best stats to a file ---\n",
    "with open(\"plot/best_model_stats.txt\", \"w\") as f:\n",
    "    f.write(f\"Best Model Test Results:\\n\")\n",
    "    f.write(f\"Loss: {avg_test_loss:.4f}\\n\")\n",
    "    f.write(f\"Accuracy: {test_acc:.4f}\\n\")\n",
    "    f.write(f\"Precision: {test_prec:.4f}\\n\")\n",
    "    f.write(f\"Recall: {test_rec:.4f}\\n\")\n",
    "    f.write(f\"F1 Score: {test_f1:.4f}\\n\")\n",
    "    f.write(f\"ROC AUC: {test_auc:.4f}\\n\")"
   ]
  }
 ],
 "metadata": {
  "kernelspec": {
   "display_name": "didenv",
   "language": "python",
   "name": "python3"
  },
  "language_info": {
   "codemirror_mode": {
    "name": "ipython",
    "version": 3
   },
   "file_extension": ".py",
   "mimetype": "text/x-python",
   "name": "python",
   "nbconvert_exporter": "python",
   "pygments_lexer": "ipython3",
   "version": "3.10.0"
  }
 },
 "nbformat": 4,
 "nbformat_minor": 5
}
